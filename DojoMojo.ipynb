{
 "cells": [
  {
   "cell_type": "code",
   "execution_count": 102,
   "id": "af9ea371",
   "metadata": {},
   "outputs": [],
   "source": [
    "#read data files\n",
    "import pandas as pd\n",
    "brandlist=range(0,3)\n",
    "df_email=pd.DataFrame()\n",
    "for name in brandlist:\n",
    "    datafile='https://sandbox-dojo-recruiting.s3.amazonaws.com/shoppers_email_hashes_brand_{}.csv'.format(name)\n",
    "    df_tem=pd.read_csv(datafile)\n",
    "\n",
    "    # Add the brand of the input as a column of the data frame for future reference.\n",
    "    df_tem['brand']=name \n",
    "    df_email=df_email.append(df_tem)  "
   ]
  },
  {
   "cell_type": "code",
   "execution_count": 103,
   "id": "20881ce0",
   "metadata": {},
   "outputs": [],
   "source": [
    "#start db connections and add the email hash as a table for future join need \n",
    "import sqlite3\n",
    "db_conn=sqlite3.connect('transactions.db')\n",
    "df_email.to_sql('emails',db_conn,if_exists='replace',index=False)\n",
    "db_conn.commit()"
   ]
  },
  {
   "cell_type": "code",
   "execution_count": 104,
   "id": "4866ae1a",
   "metadata": {},
   "outputs": [],
   "source": [
    "#identify the per catrgory spendings as features and merge into dataframe\n",
    "results=pd.read_sql_query('''SELECT e.email_hash,\n",
    "count(t.spent) AS nb_total_trans, \n",
    "SUM(t.spent) AS amt_total_spend,\n",
    "SUM(case when t.category = 'cleaning-supplies' then t.spent else 0 end) amt_cleaning_supplies_spend,\n",
    "SUM(case when t.category = 'electronics'       then t.spent else 0 end) amt_electronics_spend,\n",
    "SUM(case when t.category = 'food'              then t.spent else 0 end) amt_food_spend,\n",
    "SUM(case when t.category = 'furniture'         then t.spent else 0 end) amt_furniture_spend\n",
    "FROM emails as e\n",
    "INNER JOIN transactions AS t\n",
    "ON e.email_hash = t.email_hash\n",
    "GROUP BY e.email_hash;\n",
    "''', db_conn)\n",
    "df_email=pd.merge(df_email,results, how=\"inner\",on='email_hash')"
   ]
  },
  {
   "cell_type": "code",
   "execution_count": 105,
   "id": "6e941ba3",
   "metadata": {},
   "outputs": [],
   "source": [
    "from sklearn.preprocessing import StandardScaler\n",
    "from sklearn.cluster import KMeans\n"
   ]
  },
  {
   "cell_type": "code",
   "execution_count": 106,
   "id": "032c6fae",
   "metadata": {},
   "outputs": [
    {
     "data": {
      "text/plain": [
       "KMeans(n_clusters=3, n_init=5, random_state=10)"
      ]
     },
     "execution_count": 106,
     "metadata": {},
     "output_type": "execute_result"
    }
   ],
   "source": [
    "#identify 3 clusters using all the identified data\n",
    "X = df_email[df_email.columns[2:8]]\n",
    "std = StandardScaler()\n",
    "std.fit(X.values)\n",
    "X_s=std.transform(X.values)\n",
    "num_clusters = 3\n",
    "km = KMeans(n_clusters=num_clusters,random_state=10,n_init=5) # n_init, number of times the K-mean algorithm will run\n",
    "km.fit(X_s)"
   ]
  },
  {
   "cell_type": "code",
   "execution_count": 113,
   "id": "7ad449b1",
   "metadata": {},
   "outputs": [],
   "source": [
    "#Dimension reduction down to 2 dimensions only for display purpose\n",
    "from sklearn.decomposition import NMF, TruncatedSVD\n",
    "#reduce to 2 dimensions\n",
    "display_model=TruncatedSVD(2)\n",
    "display_dimensions=display_model.fit_transform(X_s)"
   ]
  },
  {
   "cell_type": "code",
   "execution_count": 114,
   "id": "15c0103d",
   "metadata": {},
   "outputs": [],
   "source": [
    "df_dim=pd.DataFrame(display_dimensions)\n",
    "df=pd.concat([df_email,df_dim],axis=1)"
   ]
  },
  {
   "cell_type": "code",
   "execution_count": 109,
   "id": "3010e124",
   "metadata": {},
   "outputs": [],
   "source": [
    "import matplotlib.pyplot as plt\n",
    "# helper function that allows us to display data in 2 dimensions an highlights the clusters\n",
    "def display_cluster(X,km=[],num_clusters=0):\n",
    "    color = 'brgcmyk'\n",
    "    alpha = 0.3\n",
    "    s = 15\n",
    "    if num_clusters == 0:\n",
    "        plt.scatter(X[:,0],X[:,1],c = color[0],alpha = alpha,s = s)\n",
    "    else:\n",
    "        for i in range(num_clusters):\n",
    "            plt.scatter(km.cluster_centers_[i][0],km.cluster_centers_[i][1],c = color[i], marker = 'x', s = 100)\n",
    "            plt.scatter(X[km.labels_==i,0],X[km.labels_==i,1],c = color[i],alpha = alpha,s=s)\n"
   ]
  },
  {
   "cell_type": "code",
   "execution_count": 115,
   "id": "f999240a",
   "metadata": {},
   "outputs": [
    {
     "data": {
      "image/png": "[encoded data removed]",
      "text/plain": [
       "<Figure size 432x288 with 1 Axes>"
      ]
     },
     "metadata": {
      "needs_background": "light"
     },
     "output_type": "display_data"
    }
   ],
   "source": [
    "display_cluster(display_dimensions,km,3)"
   ]
  },
  {
   "cell_type": "code",
   "execution_count": 111,
   "id": "1677539c",
   "metadata": {},
   "outputs": [],
   "source": [
    "db_conn.close()"
   ]
  },
  {
   "cell_type": "code",
   "execution_count": 117,
   "id": "c972fca4",
   "metadata": {},
   "outputs": [],
   "source": [
    "df.to_csv('data.csv')"
   ]
  },
  {
   "cell_type": "code",
   "execution_count": null,
   "id": "0241852f",
   "metadata": {},
   "outputs": [],
   "source": []
  }
 ],
 "metadata": {
  "kernelspec": {
   "display_name": "Python [conda env:metis] *",
   "language": "python",
   "name": "conda-env-metis-py"
  },
  "language_info": {
   "codemirror_mode": {
    "name": "ipython",
    "version": 3
   },
   "file_extension": ".py",
   "mimetype": "text/x-python",
   "name": "python",
   "nbconvert_exporter": "python",
   "pygments_lexer": "ipython3",
   "version": "3.8.10"
  }
 },
 "nbformat": 4,
 "nbformat_minor": 5
}
